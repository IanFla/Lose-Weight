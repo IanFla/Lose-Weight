{
 "cells": [
  {
   "cell_type": "code",
   "execution_count": 16,
   "metadata": {},
   "outputs": [],
   "source": [
    "import numpy as np\n",
    "import statsmodels.api as sm\n",
    "from matplotlib import pyplot as plt\n",
    "from sklearn.linear_model import LinearRegression as Linear\n",
    "import pandas as pd\n",
    "df=pd.read_excel('/Users/ianfla/Documents/GitHub/Lose-Weight/weight.xlsx',engine='openpyxl',header=None)\n",
    "t=df[2].values[0:-1]\n",
    "w=df[1].values[0:-1]\n",
    "goal=60"
   ]
  },
  {
   "cell_type": "code",
   "execution_count": 17,
   "metadata": {},
   "outputs": [
    {
     "data": {
      "text/plain": "          0     1      2\n244  210810  68.7  269.0\n245  210811  68.6  270.0\n246  210812  68.5  271.0\n247  210813  68.5  272.0\n248  210814  68.3  273.0\n249  210815  68.9  274.0\n250  210817  69.6  276.0\n251  210818   NaN    NaN",
      "text/html": "<div>\n<style scoped>\n    .dataframe tbody tr th:only-of-type {\n        vertical-align: middle;\n    }\n\n    .dataframe tbody tr th {\n        vertical-align: top;\n    }\n\n    .dataframe thead th {\n        text-align: right;\n    }\n</style>\n<table border=\"1\" class=\"dataframe\">\n  <thead>\n    <tr style=\"text-align: right;\">\n      <th></th>\n      <th>0</th>\n      <th>1</th>\n      <th>2</th>\n    </tr>\n  </thead>\n  <tbody>\n    <tr>\n      <th>244</th>\n      <td>210810</td>\n      <td>68.7</td>\n      <td>269.0</td>\n    </tr>\n    <tr>\n      <th>245</th>\n      <td>210811</td>\n      <td>68.6</td>\n      <td>270.0</td>\n    </tr>\n    <tr>\n      <th>246</th>\n      <td>210812</td>\n      <td>68.5</td>\n      <td>271.0</td>\n    </tr>\n    <tr>\n      <th>247</th>\n      <td>210813</td>\n      <td>68.5</td>\n      <td>272.0</td>\n    </tr>\n    <tr>\n      <th>248</th>\n      <td>210814</td>\n      <td>68.3</td>\n      <td>273.0</td>\n    </tr>\n    <tr>\n      <th>249</th>\n      <td>210815</td>\n      <td>68.9</td>\n      <td>274.0</td>\n    </tr>\n    <tr>\n      <th>250</th>\n      <td>210817</td>\n      <td>69.6</td>\n      <td>276.0</td>\n    </tr>\n    <tr>\n      <th>251</th>\n      <td>210818</td>\n      <td>NaN</td>\n      <td>NaN</td>\n    </tr>\n  </tbody>\n</table>\n</div>"
     },
     "execution_count": 17,
     "metadata": {},
     "output_type": "execute_result"
    }
   ],
   "source": [
    "df.tail(8)"
   ]
  },
  {
   "cell_type": "code",
   "execution_count": 18,
   "metadata": {},
   "outputs": [],
   "source": [
    "X=sm.add_constant(t)\n",
    "y=w\n",
    "memory=10\n",
    "fit=sm.WLS(y,X,weights=np.exp(-(t[-1]-t)/memory)).fit()\n",
    "alpha,beta=fit.params\n",
    "T=-(alpha-goal)/beta\n",
    "\n",
    "fit2=Linear().fit(t.reshape(-1,1),y)\n",
    "alpha2=fit2.intercept_\n",
    "beta2=fit2.coef_[0]\n",
    "T2=-(alpha2-goal)/beta2"
   ]
  },
  {
   "cell_type": "code",
   "execution_count": 19,
   "metadata": {},
   "outputs": [
    {
     "name": "stdout",
     "output_type": "stream",
     "text": [
      "Your weight is going up!!!\n"
     ]
    }
   ],
   "source": [
    "if alpha>0 and beta<0:\n",
    "    if beta>beta2:\n",
    "        print('You are becoming lazy!')\n",
    "    else:\n",
    "        print('Keep the momentum going!')\n",
    "        \n",
    "    plt.plot(t,w,c='g',label='body weight')\n",
    "    plt.plot([0,max(T,T2)],[goal,goal],c='r',label='goal (60 kg)')\n",
    "    plt.plot(np.append(t,t[-1]),np.append(goal+5*np.exp(-(t[-1]-t)/memory),goal),c='y',label='regression weight')\n",
    "    plt.plot([0,T],[alpha,goal],'m--',label='recent prediction')\n",
    "    plt.plot([0,T2],[alpha2,goal],'c--',label='overall prediction')\n",
    "    plt.legend()\n",
    "    plt.title('body weight and weighted regression')\n",
    "    plt.show()\n",
    "    p=(w[0]-w[-1])/(w[0]-goal)\n",
    "    print('already lost:',round(2*(w[0]-w[-1]),ndigits=2),'catties')\n",
    "    print('progress:',str(round(p*100,ndigits=2))+'%')\n",
    "    print('remaining time (recent):',round(T-t[-1],ndigits=2),'days (already',t[-1],'days)')\n",
    "    print('remaining time (overall):',round(T2-t[-1],ndigits=2),'days')\n",
    "else:\n",
    "    print('Your weight is going up!!!')"
   ]
  },
  {
   "cell_type": "code",
   "execution_count": 20,
   "metadata": {},
   "outputs": [
    {
     "data": {
      "text/plain": "<Figure size 432x288 with 1 Axes>",
      "image/png": "[encoded data removed]"
     },
     "metadata": {
      "needs_background": "light"
     },
     "output_type": "display_data"
    }
   ],
   "source": [
    "plt.plot(t[-30:],w[-30:],c='g')\n",
    "plt.show()"
   ]
  },
  {
   "cell_type": "code",
   "execution_count": 20,
   "metadata": {},
   "outputs": [],
   "source": []
  }
 ],
 "metadata": {
  "kernelspec": {
   "display_name": "Python 3",
   "language": "python",
   "name": "python3"
  },
  "language_info": {
   "codemirror_mode": {
    "name": "ipython",
    "version": 3
   },
   "file_extension": ".py",
   "mimetype": "text/x-python",
   "name": "python",
   "nbconvert_exporter": "python",
   "pygments_lexer": "ipython3",
   "version": "3.9.2"
  }
 },
 "nbformat": 4,
 "nbformat_minor": 4
}